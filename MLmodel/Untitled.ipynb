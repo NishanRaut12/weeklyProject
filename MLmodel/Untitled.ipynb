{
 "cells": [
  {
   "cell_type": "code",
   "execution_count": 71,
   "id": "1d0e419b-7ec4-467a-828a-c908d89dc94d",
   "metadata": {},
   "outputs": [],
   "source": [
    "from sklearn.datasets import load_diabetes\n",
    "import numpy as np\n",
    "from sklearn.linear_model import LinearRegression\n",
    "from sklearn.metrics import r2_score\n",
    "from sklearn.model_selection import train_test_split"
   ]
  },
  {
   "cell_type": "code",
   "execution_count": 72,
   "id": "26ac6adb-1973-4c50-ae0a-615df94812b4",
   "metadata": {},
   "outputs": [],
   "source": [
    "X,y=load_diabetes(return_X_y=True)"
   ]
  },
  {
   "cell_type": "code",
   "execution_count": 73,
   "id": "ad39251d-0680-44a1-9949-2ca11db61b75",
   "metadata": {},
   "outputs": [],
   "source": [
    "X_train,X_test,y_train,y_test=train_test_split(X,y,test_size=0.2,random_state=2)"
   ]
  },
  {
   "cell_type": "code",
   "execution_count": 74,
   "id": "5ad1aacf-87bd-4b3e-acc4-82d70cc6b1cb",
   "metadata": {},
   "outputs": [],
   "source": [
    "class GradientDescent:\n",
    "    def __init__(self,learningRate=0.001,epochs=100):\n",
    "        self.coef_=None\n",
    "        self.intercept_=None\n",
    "        self.learningRate=learningRate\n",
    "        self.epochs=epochs\n",
    "    \n",
    "    def fit(self,X_train,y_train):\n",
    "        #Initialize your Coef\n",
    "        self.intercept_=0\n",
    "        self.coef_=np.ones(X_train.shape[1]) #Initializing array shape of X_train of 1st index \n",
    "        print(self.intercept_, self.coef_)\n",
    "        for i in self.epochs:\n",
    "            #Update all the coef and the intercept\n",
    "            self.intercept_=self.intercept_-(self.learningRate*intercept_cal)\n",
    "    def predict(self,X_test):\n",
    "        pass"
   ]
  },
  {
   "cell_type": "code",
   "execution_count": 75,
   "id": "c246d86b-9133-46ef-8c96-558e78b56e49",
   "metadata": {},
   "outputs": [],
   "source": [
    "nishan=GradientDescent()"
   ]
  },
  {
   "cell_type": "code",
   "execution_count": 76,
   "id": "27dc85ca-0c0a-42e6-af58-0623754a571e",
   "metadata": {},
   "outputs": [
    {
     "name": "stdout",
     "output_type": "stream",
     "text": [
      "0 [1. 1. 1. 1. 1. 1. 1. 1. 1. 1.]\n"
     ]
    }
   ],
   "source": [
    "nishan.fit(X_train,y_train)"
   ]
  },
  {
   "cell_type": "code",
   "execution_count": null,
   "id": "0c054b4d-0426-43f1-b3f6-eeb813932da9",
   "metadata": {},
   "outputs": [],
   "source": []
  },
  {
   "cell_type": "code",
   "execution_count": null,
   "id": "7012c9de-a129-45d0-accf-bfcd28afe61b",
   "metadata": {},
   "outputs": [],
   "source": []
  }
 ],
 "metadata": {
  "kernelspec": {
   "display_name": "Python 3 (ipykernel)",
   "language": "python",
   "name": "python3"
  },
  "language_info": {
   "codemirror_mode": {
    "name": "ipython",
    "version": 3
   },
   "file_extension": ".py",
   "mimetype": "text/x-python",
   "name": "python",
   "nbconvert_exporter": "python",
   "pygments_lexer": "ipython3",
   "version": "3.9.13"
  }
 },
 "nbformat": 4,
 "nbformat_minor": 5
}
